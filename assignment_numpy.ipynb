{
 "cells": [
  {
   "cell_type": "markdown",
   "id": "d3df79dd",
   "metadata": {},
   "source": [
    "## Упражнения по библиотеке Numpy"
   ]
  },
  {
   "cell_type": "code",
   "execution_count": 2,
   "id": "76b9c43b",
   "metadata": {},
   "outputs": [],
   "source": [
    "import numpy as np"
   ]
  },
  {
   "cell_type": "markdown",
   "id": "03727b7c",
   "metadata": {},
   "source": [
    "**1.** Дан случайный массив, поменять знак у элементов, значения которых между 3 и 8"
   ]
  },
  {
   "cell_type": "code",
   "execution_count": 3,
   "id": "b89a7523",
   "metadata": {},
   "outputs": [
    {
     "name": "stdout",
     "output_type": "stream",
     "text": [
      "[[ -8  -7   4 -10]\n",
      " [-10 -10   4   1]\n",
      " [ -9   2  -3   4]\n",
      " [ -5  -4  -1  -4]]\n",
      "[[ -8  -7  -4 -10]\n",
      " [-10 -10  -4   1]\n",
      " [ -9   2  -3  -4]\n",
      " [ -5  -4  -1  -4]]\n"
     ]
    }
   ],
   "source": [
    "rand_array = np.random.randint(-10, 10, size=(4, 4))\n",
    "print(rand_array)\n",
    "\n",
    "rand_array[(rand_array>3) & (rand_array<8)] *= -1\n",
    "print(rand_array)"
   ]
  },
  {
   "cell_type": "markdown",
   "id": "5fa4abda",
   "metadata": {},
   "source": [
    "**2.** Заменить максимальный элемент случайного массива на 0"
   ]
  },
  {
   "cell_type": "code",
   "execution_count": 4,
   "id": "f2788a6e",
   "metadata": {},
   "outputs": [
    {
     "name": "stdout",
     "output_type": "stream",
     "text": [
      "[[ -8  -7  -4 -10]\n",
      " [-10 -10  -4   1]\n",
      " [ -9   0  -3  -4]\n",
      " [ -5  -4  -1  -4]]\n"
     ]
    }
   ],
   "source": [
    "rand_array[(rand_array == rand_array.max())] = 0\n",
    "print(rand_array)"
   ]
  },
  {
   "cell_type": "markdown",
   "id": "3cac656b",
   "metadata": {},
   "source": [
    "**3.** Построить прямое произведение массивов (все комбинации с каждым элементом). На вход подается двумерный массив"
   ]
  },
  {
   "cell_type": "code",
   "execution_count": 5,
   "id": "3396b764",
   "metadata": {},
   "outputs": [
    {
     "name": "stdout",
     "output_type": "stream",
     "text": [
      "[[7 6]\n",
      " [6 3]] [[1 1]\n",
      " [1 9]]\n",
      "[[7 1]\n",
      " [6 1]\n",
      " [6 1]\n",
      " [3 1]\n",
      " [7 1]\n",
      " [6 1]\n",
      " [6 1]\n",
      " [3 1]\n",
      " [7 1]\n",
      " [6 1]\n",
      " [6 1]\n",
      " [3 1]\n",
      " [7 9]\n",
      " [6 9]\n",
      " [6 9]\n",
      " [3 9]]\n"
     ]
    }
   ],
   "source": [
    "A = np.random.randint(1, 10, (2, 2))\n",
    "B = np.random.randint(1, 10, (2, 2))\n",
    "A1, B1 = np.meshgrid(A, B)\n",
    "print(A, B)\n",
    "C = np.stack([A1.ravel(), B1.ravel()], axis=1)\n",
    "print(C)"
   ]
  },
  {
   "cell_type": "markdown",
   "id": "674c9354",
   "metadata": {},
   "source": [
    "**4.** Даны 2 массива A (8x3) и B (2x2). Найти строки в A, которые содержат элементы из каждой строки в B, независимо от порядка элементов в B"
   ]
  },
  {
   "cell_type": "code",
   "execution_count": 6,
   "id": "cb664782",
   "metadata": {},
   "outputs": [
    {
     "name": "stdout",
     "output_type": "stream",
     "text": [
      "(array([1, 2, 4, 5, 6, 7]),)\n",
      "[[1 2 1]\n",
      " [4 2 4]\n",
      " [4 4 3]\n",
      " [1 1 4]\n",
      " [2 2 4]\n",
      " [1 4 3]\n",
      " [2 4 3]\n",
      " [3 1 3]]\n",
      "[[4 3]\n",
      " [3 2]]\n"
     ]
    }
   ],
   "source": [
    "A = np.random.randint(1, 5, (8, 3))\n",
    "B = np.random.randint(1, 5, (2, 2))\n",
    "\n",
    "rows = np.where(np.all([np.isin(A, row).any(axis=1) for row in B], axis=0))\n",
    "print(rows)\n",
    "print(A)\n",
    "print(B)"
   ]
  },
  {
   "cell_type": "markdown",
   "id": "fa46533b",
   "metadata": {},
   "source": [
    "**5.** Дана 10x3 матрица, найти строки из неравных значений (например строка [2,2,3] остается, строка [3,3,3] удаляется)"
   ]
  },
  {
   "cell_type": "code",
   "execution_count": 16,
   "id": "fa545b23",
   "metadata": {},
   "outputs": [
    {
     "name": "stdout",
     "output_type": "stream",
     "text": [
      "[[1 2 1]\n",
      " [2 2 1]\n",
      " [2 1 1]\n",
      " [1 2 1]\n",
      " [1 2 2]\n",
      " [1 1 1]\n",
      " [1 2 1]\n",
      " [2 1 1]\n",
      " [2 1 1]\n",
      " [1 1 1]]\n",
      "[[1 2 1]\n",
      " [2 2 1]\n",
      " [2 1 1]\n",
      " [1 2 1]\n",
      " [1 2 2]\n",
      " [1 2 1]\n",
      " [2 1 1]\n",
      " [2 1 1]]\n"
     ]
    }
   ],
   "source": [
    "A = np.random.randint(1, 3, (10,3))\n",
    "unique = np.logical_and.reduce(A[:,1:] == A[:,:-1], axis=1)\n",
    "res = A[~unique]\n",
    "print(A)\n",
    "print(res)"
   ]
  },
  {
   "cell_type": "markdown",
   "id": "28f0d116",
   "metadata": {},
   "source": [
    "**6.** Дан двумерный массив. Удалить те строки, которые повторяются"
   ]
  },
  {
   "cell_type": "code",
   "execution_count": 8,
   "id": "83d2c0b7",
   "metadata": {},
   "outputs": [
    {
     "name": "stdout",
     "output_type": "stream",
     "text": [
      "[[1 1 2 1]\n",
      " [2 1 1 1]\n",
      " [2 1 1 2]\n",
      " [2 2 2 1]]\n"
     ]
    }
   ],
   "source": [
    "A = np.random.randint(1, 3, (4, 4))\n",
    "print(np.unique(A, axis=0))"
   ]
  },
  {
   "cell_type": "markdown",
   "id": "6daa9e37",
   "metadata": {},
   "source": [
    "______\n",
    "______"
   ]
  },
  {
   "cell_type": "markdown",
   "id": "cfbfcaff",
   "metadata": {},
   "source": [
    "Для каждой из следующих задач (1-5) нужно привести 2 реализации – одна без использования numpy (cчитайте, что там, где на входе или выходе должны быть numpy array, будут просто списки), а вторая полностью векторизованная с использованием numpy (без использования питоновских циклов/map/list comprehension).\n",
    "\n",
    "\n",
    "__Замечание 1.__ Можно считать, что все указанные объекты непустые (к примеру, в __задаче 1__ на диагонали матрицы есть ненулевые элементы).\n",
    "\n",
    "__Замечание 2.__ Для большинства задач решение занимает не больше 1-2 строк."
   ]
  },
  {
   "cell_type": "markdown",
   "id": "673cac7f",
   "metadata": {},
   "source": [
    "___"
   ]
  },
  {
   "cell_type": "markdown",
   "id": "ca6f585e",
   "metadata": {},
   "source": [
    "* __Задача 1__: Подсчитать произведение ненулевых элементов на диагонали прямоугольной матрицы.  \n",
    " Например, для X = np.array([[1, 0, 1], [2, 0, 2], [3, 0, 3], [4, 4, 4]]) ответ 3."
   ]
  },
  {
   "cell_type": "code",
   "execution_count": 14,
   "id": "065862fc",
   "metadata": {},
   "outputs": [
    {
     "name": "stdout",
     "output_type": "stream",
     "text": [
      "3\n",
      "3\n"
     ]
    }
   ],
   "source": [
    "#решение без numpy\n",
    "res = 1\n",
    "X = [[1, 0, 1], [2, 0, 2], [3, 0, 3], [4, 4, 4]]\n",
    "for i in range(len(X) - 1):\n",
    "    if X[i][i] != 0:\n",
    "        res *= X[i][i]\n",
    "print(res)\n",
    "\n",
    "\n",
    "#решение с numpy\n",
    "Y = np.array([[1, 0, 1], [2, 0, 2], [3, 0, 3], [4, 4, 4]])\n",
    "print(np.prod(np.diag(Y)[np.diag(Y) != 0]))"
   ]
  },
  {
   "cell_type": "markdown",
   "id": "9fc51d41",
   "metadata": {},
   "source": [
    "* __Задача 2__: Даны два вектора x и y. Проверить, задают ли они одно и то же мультимножество.  \n",
    "  Например, для x = np.array([1, 2, 2, 4]), y = np.array([4, 2, 1, 2]) ответ True."
   ]
  },
  {
   "cell_type": "code",
   "execution_count": 10,
   "id": "a809e02f",
   "metadata": {},
   "outputs": [
    {
     "name": "stdout",
     "output_type": "stream",
     "text": [
      "True\n",
      "[ True  True  True  True  True]\n"
     ]
    }
   ],
   "source": [
    "#решение без numpy\n",
    "x = [1, 2, 2, 4]\n",
    "y = [4, 2, 1, 2]\n",
    "print(sorted(x) == sorted(y))\n",
    "\n",
    "#решение с numpy\n",
    "X = np.array([1, 2, 2, 4])\n",
    "Y = np.array([4, 2, 1, 2]) \n",
    "print(np.bincount(X) == np.bincount(Y))"
   ]
  },
  {
   "cell_type": "markdown",
   "id": "b9c185c7",
   "metadata": {},
   "source": [
    "* __Задача 3__: Найти максимальный элемент в векторе x среди элементов, перед которыми стоит ноль. \n",
    " Например, для x = np.array([6, 2, 0, 3, 0, 0, 5, 7, 0]) ответ 5."
   ]
  },
  {
   "cell_type": "code",
   "execution_count": 11,
   "id": "b57df008",
   "metadata": {},
   "outputs": [
    {
     "name": "stdout",
     "output_type": "stream",
     "text": [
      "5\n",
      "5\n"
     ]
    }
   ],
   "source": [
    "#решение без numpy\n",
    "res = 0\n",
    "x = [6, 2, 0, 3, 0, 0, 5, 7, 0]\n",
    "for i in range(len(x) - 1):\n",
    "    if x[i] == 0:\n",
    "        res = max(res, x[i + 1])\n",
    "print(res)\n",
    "\n",
    "#решение с numpy\n",
    "X = np.array([6, 2, 0, 3, 0, 0, 5, 7, 0]) \n",
    "max_value = np.max(X[np.where(X[:-1] == 0)[0] + 1])\n",
    "print(max_value)"
   ]
  },
  {
   "cell_type": "markdown",
   "id": "480be4ce",
   "metadata": {},
   "source": [
    "* __Задача 4__: Реализовать кодирование длин серий (Run-length encoding). Для некоторого вектора x необходимо вернуть кортеж из двух векторов одинаковой длины. Первый содержит числа, а второй - сколько раз их нужно повторить.  \n",
    " Например, для x = np.array([2, 2, 2, 3, 3, 3, 5]) ответ (np.array([2, 3, 5]), np.array([3, 3, 1]))."
   ]
  },
  {
   "cell_type": "code",
   "execution_count": 12,
   "id": "3c592124",
   "metadata": {},
   "outputs": [
    {
     "name": "stdout",
     "output_type": "stream",
     "text": [
      "([2, 3, 5], [3, 3, 1])\n",
      "(array([2, 3, 5]), array([3, 3, 1]))\n"
     ]
    }
   ],
   "source": [
    "#решение без numpy\n",
    "x = [2, 2, 2, 3, 3, 3, 5]\n",
    "keys = {}\n",
    "for i in x:\n",
    "    if i in keys:\n",
    "        keys[i] += 1\n",
    "    else:\n",
    "        keys[i] = 1\n",
    "res = (list(keys.keys()),list(keys.values()))\n",
    "print(res)\n",
    "\n",
    "#решение с numpy\n",
    "X = np.array([2, 2, 2, 3, 3, 3, 5]) \n",
    "values1, keys1 = np.unique(X, return_counts=True)\n",
    "res1 = (values1, keys1)\n",
    "print(res1)"
   ]
  },
  {
   "cell_type": "markdown",
   "id": "077532ec",
   "metadata": {},
   "source": [
    "* __Задача 5__: Даны две выборки объектов - X и Y. Вычислить матрицу евклидовых расстояний между объектами. Сравните с функцией scipy.spatial.distance.cdist по скорости работы."
   ]
  },
  {
   "cell_type": "code",
   "execution_count": 13,
   "id": "1e807797",
   "metadata": {},
   "outputs": [
    {
     "name": "stdout",
     "output_type": "stream",
     "text": [
      "[[8.06225774829855, 8.602325267042627], [1.0, 3.1622776601683795]]\n",
      "0.0003409385681152344\n",
      "[[8.06225775 8.60232527]\n",
      " [1.         3.16227766]]\n",
      "0.0007390975952148438\n",
      "[[8.06225775 8.60232527]\n",
      " [1.         3.16227766]]\n",
      "0.000591278076171875\n"
     ]
    }
   ],
   "source": [
    "import time\n",
    "from scipy.spatial.distance import cdist\n",
    "#решение без numpy\n",
    "import math\n",
    "x = [[1, 2],[5, 8]]\n",
    "y = [[5, 9], [8, 7]]\n",
    "res = []\n",
    "start_time = time.time()\n",
    "for i in x:\n",
    "    row=[]\n",
    "    for j in y:\n",
    "        distance = math.sqrt(sum((a - b) ** 2 for a, b in zip(i, j)))\n",
    "        row.append(distance)\n",
    "    res.append(row)\n",
    "end_time = time.time()\n",
    "print(res)\n",
    "print(end_time - start_time)\n",
    "\n",
    "#решение с numpy\n",
    "X = np.array(x)\n",
    "Y = np.array(y)\n",
    "start_time = time.time()\n",
    "\n",
    "diff = X[:, None] - Y[None, :]\n",
    "distances = np.sqrt(np.sum(diff ** 2, axis =- 1))\n",
    "\n",
    "end_time = time.time()\n",
    "print(distances)\n",
    "print(end_time - start_time)\n",
    "\n",
    "start_time = time.time()\n",
    "dist_matrix = cdist(X, Y)\n",
    "end_time = time.time()\n",
    "print(dist_matrix)\n",
    "print(end_time - start_time)\n"
   ]
  },
  {
   "cell_type": "markdown",
   "id": "973e8064",
   "metadata": {},
   "source": [
    "_______\n",
    "________"
   ]
  },
  {
   "cell_type": "markdown",
   "id": "1104acb7",
   "metadata": {},
   "source": [
    "* #### __Задача 6__: CrunchieMunchies __*__\n",
    "\n",
    "Вы работаете в отделе маркетинга пищевой компании MyCrunch, которая разрабатывает новый вид вкусных, полезных злаков под названием **CrunchieMunchies**.\n",
    "\n",
    "Вы хотите продемонстрировать потребителям, насколько полезны ваши хлопья по сравнению с другими ведущими брендами, поэтому вы собрали данные о питании нескольких разных конкурентов.\n",
    "\n",
    "Ваша задача - использовать вычисления Numpy для анализа этих данных и доказать, что ваши **СrunchieMunchies** - самый здоровый выбор для потребителей.\n"
   ]
  },
  {
   "cell_type": "code",
   "execution_count": 2,
   "id": "10a77f8d",
   "metadata": {},
   "outputs": [],
   "source": [
    "import numpy as np\n",
    "from scipy.stats import percentileofscore"
   ]
  },
  {
   "cell_type": "markdown",
   "id": "ab87cb03",
   "metadata": {},
   "source": [
    "1. Просмотрите файл cereal.csv. Этот файл содержит количества калорий для различных марок хлопьев. Загрузите данные из файла и сохраните их как calorie_stats."
   ]
  },
  {
   "cell_type": "code",
   "execution_count": 3,
   "id": "9681ebf2",
   "metadata": {},
   "outputs": [
    {
     "data": {
      "text/plain": [
       "array([ 70., 120.,  70.,  50., 110., 110., 110., 130.,  90.,  90., 120.,\n",
       "       110., 120., 110., 110., 110., 100., 110., 110., 110., 100., 110.,\n",
       "       100., 100., 110., 110., 100., 120., 120., 110., 100., 110., 100.,\n",
       "       110., 120., 120., 110., 110., 110., 140., 110., 100., 110., 100.,\n",
       "       150., 150., 160., 100., 120., 140.,  90., 130., 120., 100.,  50.,\n",
       "        50., 100., 100., 120., 100.,  90., 110., 110.,  80.,  90.,  90.,\n",
       "       110., 110.,  90., 110., 140., 100., 110., 110., 100., 100., 110.])"
      ]
     },
     "execution_count": 3,
     "metadata": {},
     "output_type": "execute_result"
    }
   ],
   "source": [
    "calorie_stats = np.loadtxt(\"/Users/BigTime/Downloads/Data/cereal.csv\", delimiter = \",\")\n",
    "calorie_stats"
   ]
  },
  {
   "cell_type": "markdown",
   "id": "139cfbd8",
   "metadata": {},
   "source": [
    "2. В одной порции CrunchieMunchies содержится 60 калорий. Насколько выше среднее количество калорий у ваших конкурентов?\n",
    "\n",
    "Сохраните ответ в переменной average_calories и распечатайте переменную в терминале"
   ]
  },
  {
   "cell_type": "code",
   "execution_count": 4,
   "id": "7036d240",
   "metadata": {},
   "outputs": [
    {
     "name": "stdout",
     "output_type": "stream",
     "text": [
      "Разница в калориях: 46.883116883116884\n"
     ]
    }
   ],
   "source": [
    "average_calories = np.mean(calorie_stats)\n",
    "print('Разница в калориях:', average_calories - 60)"
   ]
  },
  {
   "cell_type": "markdown",
   "id": "b2ddb4cd",
   "metadata": {},
   "source": [
    "3. Корректно ли среднее количество калорий отражает распределение набора данных? Давайте отсортируем данные и посмотрим.\n",
    "\n",
    "Отсортируйте данные и сохраните результат в переменной calorie_stats_sorted. Распечатайте отсортированную информацию"
   ]
  },
  {
   "cell_type": "code",
   "execution_count": 5,
   "id": "46eeb4ed",
   "metadata": {},
   "outputs": [
    {
     "name": "stdout",
     "output_type": "stream",
     "text": [
      "[ 50.  50.  50.  70.  70.  80.  90.  90.  90.  90.  90.  90.  90. 100.\n",
      " 100. 100. 100. 100. 100. 100. 100. 100. 100. 100. 100. 100. 100. 100.\n",
      " 100. 100. 110. 110. 110. 110. 110. 110. 110. 110. 110. 110. 110. 110.\n",
      " 110. 110. 110. 110. 110. 110. 110. 110. 110. 110. 110. 110. 110. 110.\n",
      " 110. 110. 110. 120. 120. 120. 120. 120. 120. 120. 120. 120. 120. 130.\n",
      " 130. 140. 140. 140. 150. 150. 160.]\n"
     ]
    }
   ],
   "source": [
    "calorie_stats_sorted = np.sort(calorie_stats)\n",
    "print(calorie_stats_sorted)"
   ]
  },
  {
   "cell_type": "markdown",
   "id": "4dc74116",
   "metadata": {},
   "source": [
    "4. Похоже, что большинство значений выше среднего. Давайте посмотрим, является ли медиана наиболее корректным показателем набора данных.\n",
    "\n",
    "Вычислите медиану набора данных и сохраните свой ответ в median_calories. Выведите медиану, чтобы вы могли видеть, как она сравнивается со средним значением."
   ]
  },
  {
   "cell_type": "code",
   "execution_count": 6,
   "id": "b56627c3",
   "metadata": {},
   "outputs": [
    {
     "name": "stdout",
     "output_type": "stream",
     "text": [
      "110.0\n"
     ]
    }
   ],
   "source": [
    "median_calories = np.median(calorie_stats)\n",
    "print(median_calories)"
   ]
  },
  {
   "cell_type": "markdown",
   "id": "a63ab72f",
   "metadata": {},
   "source": [
    "5. В то время как медиана показывает, что по крайней мере половина наших значений составляет более 100 калорий, было бы более впечатляюще показать, что значительная часть конкурентов имеет более высокое количество калорий, чем CrunchieMunchies.\n",
    "\n",
    "Рассчитайте различные процентили и распечатайте их, пока не найдете наименьший процентиль, превышающий 60 калорий. Сохраните это значение в переменной nth_percentile."
   ]
  },
  {
   "cell_type": "code",
   "execution_count": 13,
   "id": "fe80ce03",
   "metadata": {},
   "outputs": [
    {
     "name": "stdout",
     "output_type": "stream",
     "text": [
      "5.8441558441558445\n",
      "5.8441558441558445\n",
      "7.792207792207792\n",
      "12.987012987012987\n",
      "12.987012987012987\n",
      "12.987012987012987\n",
      "12.987012987012987\n",
      "12.987012987012987\n",
      "12.987012987012987\n",
      "12.987012987012987\n",
      "28.57142857142857\n",
      "28.57142857142857\n",
      "28.57142857142857\n",
      "28.57142857142857\n",
      "28.57142857142857\n",
      "28.57142857142857\n",
      "28.57142857142857\n",
      "28.57142857142857\n",
      "28.57142857142857\n",
      "28.57142857142857\n",
      "28.57142857142857\n",
      "28.57142857142857\n",
      "28.57142857142857\n",
      "28.57142857142857\n",
      "28.57142857142857\n",
      "28.57142857142857\n",
      "28.57142857142857\n",
      "58.44155844155844\n",
      "58.44155844155844\n",
      "58.44155844155844\n",
      "58.44155844155844\n",
      "58.44155844155844\n",
      "58.44155844155844\n",
      "58.44155844155844\n",
      "58.44155844155844\n",
      "58.44155844155844\n",
      "58.44155844155844\n",
      "58.44155844155844\n",
      "58.44155844155844\n",
      "58.44155844155844\n",
      "58.44155844155844\n",
      "58.44155844155844\n",
      "58.44155844155844\n",
      "58.44155844155844\n",
      "58.44155844155844\n",
      "58.44155844155844\n",
      "58.44155844155844\n",
      "58.44155844155844\n",
      "58.44155844155844\n",
      "58.44155844155844\n",
      "58.44155844155844\n",
      "58.44155844155844\n",
      "58.44155844155844\n",
      "58.44155844155844\n",
      "58.44155844155844\n",
      "58.44155844155844\n",
      "83.76623376623377\n",
      "83.76623376623377\n",
      "83.76623376623377\n",
      "83.76623376623377\n",
      "83.76623376623377\n",
      "83.76623376623377\n",
      "83.76623376623377\n",
      "83.76623376623377\n",
      "83.76623376623377\n",
      "83.76623376623377\n",
      "91.55844155844156\n",
      "91.55844155844156\n",
      "94.8051948051948\n",
      "94.8051948051948\n",
      "94.8051948051948\n",
      "98.05194805194805\n",
      "98.05194805194805\n",
      "100.0\n",
      "Наимениший процентиль, превышающий 60 ккал: 3.896103896103896\n"
     ]
    }
   ],
   "source": [
    "for i in calorie_stats_sorted:\n",
    "    if i > 60:\n",
    "        print(percentileofscore(calorie_stats, i))\n",
    "nth_percentil = percentileofscore(calorie_stats, 60)\n",
    "print('Наимениший процентиль, превышающий 60 ккал:', nth_percentil)"
   ]
  },
  {
   "cell_type": "markdown",
   "id": "a2a3c5aa",
   "metadata": {},
   "source": [
    "6. Хотя процентиль показывает нам, что у большинства конкурентов количество калорий намного выше, это неудобная концепция для использования в маркетинговых материалах.\n",
    "\n",
    "Вместо этого давайте подсчитаем процент хлопьев, в которых содержится более 60 калорий на порцию. Сохраните свой ответ в переменной more_calories и распечатайте его"
   ]
  },
  {
   "cell_type": "code",
   "execution_count": 61,
   "id": "ade0f6ea",
   "metadata": {},
   "outputs": [
    {
     "data": {
      "text/plain": [
       "0.961038961038961"
      ]
     },
     "execution_count": 61,
     "metadata": {},
     "output_type": "execute_result"
    }
   ],
   "source": [
    "more_calories = np.sum(calorie_stats > 60) / len(calorie_stats)\n",
    "more_calories"
   ]
  },
  {
   "cell_type": "markdown",
   "id": "1735d65b",
   "metadata": {},
   "source": [
    "7. Это действительно высокий процент. Это будет очень полезно, когда мы будем продвигать CrunchieMunchies. Но один вопрос заключается в том, насколько велики различия в наборе данных? Можем ли мы сделать обобщение, что в большинстве злаков содержится около 100 калорий или разброс еще больше?\n",
    "\n",
    "Рассчитайте величину отклонения, найдя стандартное отклонение, Сохраните свой ответ в calorie_std и распечатайте на терминале. Как мы можем включить эту ценность в наш анализ?"
   ]
  },
  {
   "cell_type": "code",
   "execution_count": 65,
   "id": "85c8df1f",
   "metadata": {
    "scrolled": true
   },
   "outputs": [
    {
     "data": {
      "text/plain": [
       "19.35718533390827"
      ]
     },
     "execution_count": 65,
     "metadata": {},
     "output_type": "execute_result"
    }
   ],
   "source": [
    "calorie_std = np.std(calorie_stats)\n",
    "calorie_std\n",
    "#мы не можем сделать обобщение, что в большинстве злаков содержится около 100 ккал, т.к. разброс в 20 калорий ощутим\n",
    "#с этой информацией мы можем утверждать, что калорийность наших злаков значительно ниже."
   ]
  },
  {
   "cell_type": "markdown",
   "id": "037455c5",
   "metadata": {},
   "source": [
    "8. Напишите короткий абзац, в котором кратко изложите свои выводы и то, как, по вашему мнению, эти данные могут быть использованы в интересах Mycrunch при маркетинге CrunchieMunchies."
   ]
  },
  {
   "cell_type": "code",
   "execution_count": null,
   "id": "9ee4ad2f",
   "metadata": {},
   "outputs": [],
   "source": [
    "В ходе анализа мы выявили, что в среднем калорийность такого типа продукта составляет 100+-20 ккалорий. Наши злаки \n",
    "обладают калорийностью ниже примерно на два стандартных отклонения, в связи с этим мы можем утверждать, что эти\n",
    "цифры гораздо лучше чем у большинства конкурентов."
   ]
  }
 ],
 "metadata": {
  "kernelspec": {
   "display_name": "Python 3 (ipykernel)",
   "language": "python",
   "name": "python3"
  },
  "language_info": {
   "codemirror_mode": {
    "name": "ipython",
    "version": 3
   },
   "file_extension": ".py",
   "mimetype": "text/x-python",
   "name": "python",
   "nbconvert_exporter": "python",
   "pygments_lexer": "ipython3",
   "version": "3.10.9"
  }
 },
 "nbformat": 4,
 "nbformat_minor": 5
}
